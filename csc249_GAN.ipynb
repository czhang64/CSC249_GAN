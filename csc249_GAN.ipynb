{
  "nbformat": 4,
  "nbformat_minor": 0,
  "metadata": {
    "colab": {
      "name": "csc249_GAN.ipynb",
      "provenance": [],
      "collapsed_sections": [],
      "toc_visible": true,
      "mount_file_id": "11vKAJv9HKOAdJBNH6YN_7-WOaN98NAwm",
      "authorship_tag": "ABX9TyPBeuqinzohHFEZtdWfnhJ5",
      "include_colab_link": true
    },
    "kernelspec": {
      "name": "python3",
      "display_name": "Python 3"
    },
    "language_info": {
      "name": "python"
    },
    "accelerator": "GPU"
  },
  "cells": [
    {
      "cell_type": "markdown",
      "metadata": {
        "id": "view-in-github",
        "colab_type": "text"
      },
      "source": [
        "<a href=\"https://colab.research.google.com/github/czhang64/CSC249_GAN/blob/main/csc249_GAN.ipynb\" target=\"_parent\"><img src=\"https://colab.research.google.com/assets/colab-badge.svg\" alt=\"Open In Colab\"/></a>"
      ]
    },
    {
      "cell_type": "code",
      "metadata": {
        "id": "z1-a-M0RKbr4"
      },
      "source": [
        "# Nicely formatted time string\n",
        "def hms_string(sec_elapsed):\n",
        "    h = int(sec_elapsed / (60 * 60))\n",
        "    m = int((sec_elapsed % (60 * 60)) / 60)\n",
        "    s = sec_elapsed % 60\n",
        "    return \"{}:{:>02}:{:>05.2f}\".format(h, m, s)"
      ],
      "execution_count": null,
      "outputs": []
    },
    {
      "cell_type": "code",
      "metadata": {
        "id": "JRZ-n-1qLUM2"
      },
      "source": [
        "import tensorflow as tf\n",
        "from tensorflow.keras.layers import Input, Reshape, Dropout, Dense \n",
        "from tensorflow.keras.layers import Flatten, BatchNormalization\n",
        "from tensorflow.keras.layers import Activation, ZeroPadding2D\n",
        "from tensorflow.keras.layers import LeakyReLU\n",
        "from tensorflow.keras.layers import UpSampling2D, Conv2D\n",
        "from tensorflow.keras.models import Sequential, Model, load_model\n",
        "from tensorflow.keras.optimizers import Adam\n",
        "import numpy as np\n",
        "from PIL import Image\n",
        "from tqdm import tqdm\n",
        "import os \n",
        "import time\n",
        "import matplotlib.pyplot as plt"
      ],
      "execution_count": null,
      "outputs": []
    },
    {
      "cell_type": "code",
      "metadata": {
        "colab": {
          "base_uri": "https://localhost:8080/"
        },
        "id": "pE8LBVj2LU0E",
        "outputId": "17ab75be-781d-4568-8cab-9622f42761c2"
      },
      "source": [
        "# Generation resolution - Must be square \n",
        "# Training data is also scaled to this.\n",
        "# Note GENERATE_RES 4 or higher  \n",
        "# will blow Google CoLab's memory and have not\n",
        "# been tested extensivly.\n",
        "GENERATE_RES = 4 # Generation resolution factor \n",
        "# (1=32, 2=64, 3=96, 4=128, etc.)\n",
        "GENERATE_SQUARE = 32 * GENERATE_RES # rows/cols (should be square)\n",
        "IMAGE_CHANNELS = 3\n",
        "\n",
        "# Preview image \n",
        "PREVIEW_ROWS = 4\n",
        "PREVIEW_COLS = 7\n",
        "PREVIEW_MARGIN = 16\n",
        "\n",
        "# Size vector to generate images from\n",
        "SEED_SIZE = 100\n",
        "\n",
        "# Configuration\n",
        "DATA_PATH = '/content/drive/MyDrive/csc_249_GAN'\n",
        "EPOCHS = 200\n",
        "BATCH_SIZE = 32\n",
        "BUFFER_SIZE = 60000\n",
        "\n",
        "print(f\"Will generate {GENERATE_SQUARE}px square images.\")"
      ],
      "execution_count": null,
      "outputs": [
        {
          "output_type": "stream",
          "text": [
            "Will generate 128px square images.\n"
          ],
          "name": "stdout"
        }
      ]
    },
    {
      "cell_type": "code",
      "metadata": {
        "colab": {
          "base_uri": "https://localhost:8080/"
        },
        "id": "6J4Y6acQLlyi",
        "outputId": "1a7407e7-e0fa-4b1e-c24c-0492a6dfc396"
      },
      "source": [
        "# Image set has 11,682 images.  Can take over an hour \n",
        "# for initial preprocessing.\n",
        "# Because of this time needed, save a Numpy preprocessed file.\n",
        "# Note, that file is large enough to cause problems for \n",
        "# sume verisons of Pickle,\n",
        "# so Numpy binary files are used.\n",
        "training_binary_path = os.path.join(DATA_PATH,\n",
        "        f'impressionism_training_data_{GENERATE_SQUARE}_{GENERATE_SQUARE}.npy')\n",
        "print(\"Loading previous training pickle...\")\n",
        "training_data = np.load(training_binary_path)"
      ],
      "execution_count": null,
      "outputs": [
        {
          "output_type": "stream",
          "text": [
            "Loading previous training pickle...\n"
          ],
          "name": "stdout"
        }
      ]
    },
    {
      "cell_type": "code",
      "metadata": {
        "id": "X2ErBhwOL8zy"
      },
      "source": [
        "# Batch and shuffle the data\n",
        "train_dataset = tf.data.Dataset.from_tensor_slices(training_data) \\\n",
        "    .shuffle(BUFFER_SIZE).batch(BATCH_SIZE)"
      ],
      "execution_count": null,
      "outputs": []
    },
    {
      "cell_type": "code",
      "metadata": {
        "id": "HiBLanQDL_8F"
      },
      "source": [
        "def build_generator(seed_size, channels):\n",
        "    model = Sequential()\n",
        "\n",
        "    model.add(Dense(4*4*256,activation=\"relu\",input_dim=seed_size))\n",
        "    model.add(Reshape((4,4,256)))\n",
        "\n",
        "    model.add(UpSampling2D())\n",
        "    model.add(Conv2D(256,kernel_size=3,padding=\"same\"))\n",
        "    model.add(BatchNormalization(momentum=0.8))\n",
        "    model.add(Activation(\"relu\"))\n",
        "\n",
        "    model.add(UpSampling2D())\n",
        "    model.add(Conv2D(256,kernel_size=3,padding=\"same\"))\n",
        "    model.add(BatchNormalization(momentum=0.8))\n",
        "    model.add(Activation(\"relu\"))\n",
        "   \n",
        "    # Output resolution, additional upsampling\n",
        "    model.add(UpSampling2D())\n",
        "    model.add(Conv2D(128,kernel_size=3,padding=\"same\"))\n",
        "    model.add(BatchNormalization(momentum=0.8))\n",
        "    model.add(Activation(\"relu\"))\n",
        "\n",
        "    if GENERATE_RES>1:\n",
        "      model.add(UpSampling2D(size=(GENERATE_RES,GENERATE_RES)))\n",
        "      model.add(Conv2D(128,kernel_size=3,padding=\"same\"))\n",
        "      model.add(BatchNormalization(momentum=0.8))\n",
        "      model.add(Activation(\"relu\"))\n",
        "\n",
        "    # Final CNN layer\n",
        "    model.add(Conv2D(channels,kernel_size=3,padding=\"same\"))\n",
        "    model.add(Activation(\"tanh\"))\n",
        "    model.summary()\n",
        "    return model\n",
        "\n",
        "\n",
        "def build_discriminator(image_shape):\n",
        "    model = Sequential()\n",
        "\n",
        "    model.add(Conv2D(32, kernel_size=3, strides=2, input_shape=image_shape, \n",
        "                     padding=\"same\"))\n",
        "    model.add(LeakyReLU(alpha=0.2))\n",
        "\n",
        "    model.add(Dropout(0.25))\n",
        "    model.add(Conv2D(64, kernel_size=3, strides=2, padding=\"same\"))\n",
        "    model.add(ZeroPadding2D(padding=((0,1),(0,1))))\n",
        "    model.add(BatchNormalization(momentum=0.8))\n",
        "    model.add(LeakyReLU(alpha=0.2))\n",
        "\n",
        "    model.add(Dropout(0.25))\n",
        "    model.add(Conv2D(128, kernel_size=3, strides=2, padding=\"same\"))\n",
        "    model.add(BatchNormalization(momentum=0.8))\n",
        "    model.add(LeakyReLU(alpha=0.2))\n",
        "\n",
        "    model.add(Dropout(0.25))\n",
        "    model.add(Conv2D(256, kernel_size=3, strides=1, padding=\"same\"))\n",
        "    model.add(BatchNormalization(momentum=0.8))\n",
        "    model.add(LeakyReLU(alpha=0.2))\n",
        "\n",
        "    model.add(Dropout(0.25))\n",
        "    model.add(Conv2D(512, kernel_size=3, strides=1, padding=\"same\"))\n",
        "    model.add(BatchNormalization(momentum=0.8))\n",
        "    model.add(LeakyReLU(alpha=0.2))\n",
        "\n",
        "    model.add(Dropout(0.25))\n",
        "    model.add(Flatten())\n",
        "    model.add(Dense(1, activation='sigmoid'))\n",
        "    print(\"second\")\n",
        "    model.summary()\n",
        "    return model"
      ],
      "execution_count": null,
      "outputs": []
    },
    {
      "cell_type": "code",
      "metadata": {
        "id": "ds37rLeMMCD1"
      },
      "source": [
        "def save_images(cnt,noise):\n",
        "  image_array = np.full(( \n",
        "      PREVIEW_MARGIN + (PREVIEW_ROWS * (GENERATE_SQUARE+PREVIEW_MARGIN)), \n",
        "      PREVIEW_MARGIN + (PREVIEW_COLS * (GENERATE_SQUARE+PREVIEW_MARGIN)), 3), \n",
        "      255, dtype=np.uint8)\n",
        "  \n",
        "  generated_images = generator.predict(noise)\n",
        "\n",
        "  generated_images = 0.5 * generated_images + 0.5\n",
        "\n",
        "  image_count = 0\n",
        "  for row in range(PREVIEW_ROWS):\n",
        "      for col in range(PREVIEW_COLS):\n",
        "        r = row * (GENERATE_SQUARE+16) + PREVIEW_MARGIN\n",
        "        c = col * (GENERATE_SQUARE+16) + PREVIEW_MARGIN\n",
        "        image_array[r:r+GENERATE_SQUARE,c:c+GENERATE_SQUARE] \\\n",
        "            = generated_images[image_count] * 255\n",
        "        image_count += 1\n",
        "\n",
        "          \n",
        "  output_path = os.path.join(DATA_PATH,'output')\n",
        "  if not os.path.exists(output_path):\n",
        "    os.makedirs(output_path)\n",
        "  \n",
        "  filename = os.path.join(output_path,f\"train-{cnt}.png\")\n",
        "  im = Image.fromarray(image_array)\n",
        "  im.save(filename)"
      ],
      "execution_count": null,
      "outputs": []
    },
    {
      "cell_type": "code",
      "metadata": {
        "colab": {
          "base_uri": "https://localhost:8080/",
          "height": 1000
        },
        "id": "yKQNI3DpMEyc",
        "outputId": "844e0fc9-a0bb-4300-ffc0-a597edfbcf55"
      },
      "source": [
        "generator = build_generator(SEED_SIZE, IMAGE_CHANNELS)\n",
        "\n",
        "noise = tf.random.normal([1, SEED_SIZE])\n",
        "generated_image = generator(noise, training=False)\n",
        "\n",
        "plt.imshow(generated_image[0, :, :, 0])"
      ],
      "execution_count": null,
      "outputs": [
        {
          "output_type": "stream",
          "text": [
            "Model: \"sequential\"\n",
            "_________________________________________________________________\n",
            "Layer (type)                 Output Shape              Param #   \n",
            "=================================================================\n",
            "dense (Dense)                (None, 4096)              413696    \n",
            "_________________________________________________________________\n",
            "reshape (Reshape)            (None, 4, 4, 256)         0         \n",
            "_________________________________________________________________\n",
            "up_sampling2d (UpSampling2D) (None, 8, 8, 256)         0         \n",
            "_________________________________________________________________\n",
            "conv2d (Conv2D)              (None, 8, 8, 256)         590080    \n",
            "_________________________________________________________________\n",
            "batch_normalization (BatchNo (None, 8, 8, 256)         1024      \n",
            "_________________________________________________________________\n",
            "activation (Activation)      (None, 8, 8, 256)         0         \n",
            "_________________________________________________________________\n",
            "up_sampling2d_1 (UpSampling2 (None, 16, 16, 256)       0         \n",
            "_________________________________________________________________\n",
            "conv2d_1 (Conv2D)            (None, 16, 16, 256)       590080    \n",
            "_________________________________________________________________\n",
            "batch_normalization_1 (Batch (None, 16, 16, 256)       1024      \n",
            "_________________________________________________________________\n",
            "activation_1 (Activation)    (None, 16, 16, 256)       0         \n",
            "_________________________________________________________________\n",
            "up_sampling2d_2 (UpSampling2 (None, 32, 32, 256)       0         \n",
            "_________________________________________________________________\n",
            "conv2d_2 (Conv2D)            (None, 32, 32, 128)       295040    \n",
            "_________________________________________________________________\n",
            "batch_normalization_2 (Batch (None, 32, 32, 128)       512       \n",
            "_________________________________________________________________\n",
            "activation_2 (Activation)    (None, 32, 32, 128)       0         \n",
            "_________________________________________________________________\n",
            "up_sampling2d_3 (UpSampling2 (None, 128, 128, 128)     0         \n",
            "_________________________________________________________________\n",
            "conv2d_3 (Conv2D)            (None, 128, 128, 128)     147584    \n",
            "_________________________________________________________________\n",
            "batch_normalization_3 (Batch (None, 128, 128, 128)     512       \n",
            "_________________________________________________________________\n",
            "activation_3 (Activation)    (None, 128, 128, 128)     0         \n",
            "_________________________________________________________________\n",
            "conv2d_4 (Conv2D)            (None, 128, 128, 3)       3459      \n",
            "_________________________________________________________________\n",
            "activation_4 (Activation)    (None, 128, 128, 3)       0         \n",
            "=================================================================\n",
            "Total params: 2,043,011\n",
            "Trainable params: 2,041,475\n",
            "Non-trainable params: 1,536\n",
            "_________________________________________________________________\n"
          ],
          "name": "stdout"
        },
        {
          "output_type": "execute_result",
          "data": {
            "text/plain": [
              "<matplotlib.image.AxesImage at 0x7fe0f00a4910>"
            ]
          },
          "metadata": {
            "tags": []
          },
          "execution_count": 8
        },
        {
          "output_type": "display_data",
          "data": {
            "image/png": "[encoded data removed]",
            "text/plain": [
              "<Figure size 432x288 with 1 Axes>"
            ]
          },
          "metadata": {
            "tags": [],
            "needs_background": "light"
          }
        }
      ]
    },
    {
      "cell_type": "code",
      "metadata": {
        "colab": {
          "base_uri": "https://localhost:8080/"
        },
        "id": "oOPPLz0sMHhg",
        "outputId": "3ec77072-36d4-4fcf-877d-cee6a8643fc3"
      },
      "source": [
        "image_shape = (GENERATE_SQUARE,GENERATE_SQUARE,IMAGE_CHANNELS)\n",
        "\n",
        "discriminator = build_discriminator(image_shape)\n",
        "decision = discriminator(generated_image)\n",
        "print (decision)"
      ],
      "execution_count": null,
      "outputs": [
        {
          "output_type": "stream",
          "text": [
            "second\n",
            "Model: \"sequential_1\"\n",
            "_________________________________________________________________\n",
            "Layer (type)                 Output Shape              Param #   \n",
            "=================================================================\n",
            "conv2d_5 (Conv2D)            (None, 64, 64, 32)        896       \n",
            "_________________________________________________________________\n",
            "leaky_re_lu (LeakyReLU)      (None, 64, 64, 32)        0         \n",
            "_________________________________________________________________\n",
            "dropout (Dropout)            (None, 64, 64, 32)        0         \n",
            "_________________________________________________________________\n",
            "conv2d_6 (Conv2D)            (None, 32, 32, 64)        18496     \n",
            "_________________________________________________________________\n",
            "zero_padding2d (ZeroPadding2 (None, 33, 33, 64)        0         \n",
            "_________________________________________________________________\n",
            "batch_normalization_4 (Batch (None, 33, 33, 64)        256       \n",
            "_________________________________________________________________\n",
            "leaky_re_lu_1 (LeakyReLU)    (None, 33, 33, 64)        0         \n",
            "_________________________________________________________________\n",
            "dropout_1 (Dropout)          (None, 33, 33, 64)        0         \n",
            "_________________________________________________________________\n",
            "conv2d_7 (Conv2D)            (None, 17, 17, 128)       73856     \n",
            "_________________________________________________________________\n",
            "batch_normalization_5 (Batch (None, 17, 17, 128)       512       \n",
            "_________________________________________________________________\n",
            "leaky_re_lu_2 (LeakyReLU)    (None, 17, 17, 128)       0         \n",
            "_________________________________________________________________\n",
            "dropout_2 (Dropout)          (None, 17, 17, 128)       0         \n",
            "_________________________________________________________________\n",
            "conv2d_8 (Conv2D)            (None, 17, 17, 256)       295168    \n",
            "_________________________________________________________________\n",
            "batch_normalization_6 (Batch (None, 17, 17, 256)       1024      \n",
            "_________________________________________________________________\n",
            "leaky_re_lu_3 (LeakyReLU)    (None, 17, 17, 256)       0         \n",
            "_________________________________________________________________\n",
            "dropout_3 (Dropout)          (None, 17, 17, 256)       0         \n",
            "_________________________________________________________________\n",
            "conv2d_9 (Conv2D)            (None, 17, 17, 512)       1180160   \n",
            "_________________________________________________________________\n",
            "batch_normalization_7 (Batch (None, 17, 17, 512)       2048      \n",
            "_________________________________________________________________\n",
            "leaky_re_lu_4 (LeakyReLU)    (None, 17, 17, 512)       0         \n",
            "_________________________________________________________________\n",
            "dropout_4 (Dropout)          (None, 17, 17, 512)       0         \n",
            "_________________________________________________________________\n",
            "flatten (Flatten)            (None, 147968)            0         \n",
            "_________________________________________________________________\n",
            "dense_1 (Dense)              (None, 1)                 147969    \n",
            "=================================================================\n",
            "Total params: 1,720,385\n",
            "Trainable params: 1,718,465\n",
            "Non-trainable params: 1,920\n",
            "_________________________________________________________________\n",
            "tf.Tensor([[0.49952134]], shape=(1, 1), dtype=float32)\n"
          ],
          "name": "stdout"
        }
      ]
    },
    {
      "cell_type": "code",
      "metadata": {
        "id": "B24TJcK0MJ3V"
      },
      "source": [
        "# This method returns a helper function to compute cross entropy loss\n",
        "cross_entropy = tf.keras.losses.BinaryCrossentropy()\n",
        "\n",
        "def discriminator_loss(real_output, fake_output):\n",
        "    real_loss = cross_entropy(tf.ones_like(real_output), real_output)\n",
        "    fake_loss = cross_entropy(tf.zeros_like(fake_output), fake_output)\n",
        "    total_loss = real_loss + fake_loss\n",
        "    return total_loss\n",
        "\n",
        "def generator_loss(fake_output):\n",
        "    return cross_entropy(tf.ones_like(fake_output), fake_output)"
      ],
      "execution_count": null,
      "outputs": []
    },
    {
      "cell_type": "code",
      "metadata": {
        "id": "dCgwAVO0ML7R"
      },
      "source": [
        "generator_optimizer = tf.keras.optimizers.Adam(1.5e-4,0.5)\n",
        "discriminator_optimizer = tf.keras.optimizers.Adam(1.5e-4,0.5)"
      ],
      "execution_count": null,
      "outputs": []
    },
    {
      "cell_type": "code",
      "metadata": {
        "id": "74lt3Zi0MODa"
      },
      "source": [
        "# Notice the use of `tf.function`\n",
        "# This annotation causes the function to be \"compiled\".\n",
        "@tf.function\n",
        "def train_step(images):\n",
        "  seed = tf.random.normal([BATCH_SIZE, SEED_SIZE])\n",
        "\n",
        "  with tf.GradientTape() as gen_tape, tf.GradientTape() as disc_tape:\n",
        "    generated_images = generator(seed, training=True)\n",
        "\n",
        "    real_output = discriminator(images, training=True)\n",
        "    fake_output = discriminator(generated_images, training=True)\n",
        "\n",
        "    gen_loss = generator_loss(fake_output)\n",
        "    disc_loss = discriminator_loss(real_output, fake_output)\n",
        "    \n",
        "\n",
        "    gradients_of_generator = gen_tape.gradient(\\\n",
        "        gen_loss, generator.trainable_variables)\n",
        "    gradients_of_discriminator = disc_tape.gradient(\\\n",
        "        disc_loss, discriminator.trainable_variables)\n",
        "\n",
        "    generator_optimizer.apply_gradients(zip(\n",
        "        gradients_of_generator, generator.trainable_variables))\n",
        "    discriminator_optimizer.apply_gradients(zip(\n",
        "        gradients_of_discriminator, \n",
        "        discriminator.trainable_variables))\n",
        "  return gen_loss,disc_loss"
      ],
      "execution_count": null,
      "outputs": []
    },
    {
      "cell_type": "code",
      "metadata": {
        "id": "GDnYJ0bPMQOK"
      },
      "source": [
        "def train(dataset, epochs):\n",
        "  fixed_seed = np.random.normal(0, 1, (PREVIEW_ROWS * PREVIEW_COLS, \n",
        "                                       SEED_SIZE))\n",
        "  start = time.time()\n",
        "\n",
        "  for epoch in range(epochs):\n",
        "    epoch_start = time.time()\n",
        "\n",
        "    gen_loss_list = []\n",
        "    disc_loss_list = []\n",
        "\n",
        "    for image_batch in dataset:\n",
        "      t = train_step(image_batch)\n",
        "      gen_loss_list.append(t[0])\n",
        "      disc_loss_list.append(t[1])\n",
        "\n",
        "    g_loss = sum(gen_loss_list) / len(gen_loss_list)\n",
        "    d_loss = sum(disc_loss_list) / len(disc_loss_list)\n",
        "\n",
        "    epoch_elapsed = time.time()-epoch_start\n",
        "    print (f'Epoch {epoch+1}, gen loss={g_loss},disc loss={d_loss},'\\\n",
        "           ' {hms_string(epoch_elapsed)}')\n",
        "    save_images(epoch,fixed_seed)\n",
        "\n",
        "  elapsed = time.time()-start\n",
        "  print (f'Training time: {hms_string(elapsed)}')"
      ],
      "execution_count": null,
      "outputs": []
    },
    {
      "cell_type": "code",
      "metadata": {
        "colab": {
          "base_uri": "https://localhost:8080/"
        },
        "id": "COKFwBrZMQwT",
        "outputId": "0bfd3006-f70a-4083-a07b-26953d3a65f2"
      },
      "source": [
        "train(train_dataset, EPOCHS)"
      ],
      "execution_count": null,
      "outputs": [
        {
          "output_type": "stream",
          "text": [
            "Epoch 1, gen loss=3.953105926513672,disc loss=1.569739580154419, {hms_string(epoch_elapsed)}\n",
            "Epoch 2, gen loss=2.277061700820923,disc loss=1.5702556371688843, {hms_string(epoch_elapsed)}\n",
            "Epoch 3, gen loss=1.7837350368499756,disc loss=1.795853614807129, {hms_string(epoch_elapsed)}\n",
            "Epoch 4, gen loss=1.863399624824524,disc loss=1.6012624502182007, {hms_string(epoch_elapsed)}\n",
            "Epoch 5, gen loss=1.9835455417633057,disc loss=1.4572672843933105, {hms_string(epoch_elapsed)}\n",
            "Epoch 6, gen loss=1.8689701557159424,disc loss=1.5827537775039673, {hms_string(epoch_elapsed)}\n",
            "Epoch 7, gen loss=1.768797755241394,disc loss=1.4639874696731567, {hms_string(epoch_elapsed)}\n",
            "Epoch 8, gen loss=1.9197087287902832,disc loss=1.4731895923614502, {hms_string(epoch_elapsed)}\n",
            "Epoch 9, gen loss=1.9567419290542603,disc loss=1.3575938940048218, {hms_string(epoch_elapsed)}\n",
            "Epoch 10, gen loss=1.909656286239624,disc loss=1.3392393589019775, {hms_string(epoch_elapsed)}\n",
            "Epoch 11, gen loss=2.183161973953247,disc loss=1.190453290939331, {hms_string(epoch_elapsed)}\n",
            "Epoch 12, gen loss=2.363464832305908,disc loss=1.1697462797164917, {hms_string(epoch_elapsed)}\n",
            "Epoch 13, gen loss=2.3416454792022705,disc loss=1.1466306447982788, {hms_string(epoch_elapsed)}\n",
            "Epoch 14, gen loss=2.3301074504852295,disc loss=1.1440131664276123, {hms_string(epoch_elapsed)}\n",
            "Epoch 15, gen loss=2.330954074859619,disc loss=1.1604220867156982, {hms_string(epoch_elapsed)}\n",
            "Epoch 16, gen loss=2.3174238204956055,disc loss=1.1738466024398804, {hms_string(epoch_elapsed)}\n",
            "Epoch 17, gen loss=2.3385980129241943,disc loss=1.1173286437988281, {hms_string(epoch_elapsed)}\n",
            "Epoch 18, gen loss=2.3704800605773926,disc loss=1.1879630088806152, {hms_string(epoch_elapsed)}\n",
            "Epoch 19, gen loss=2.2033865451812744,disc loss=1.126873254776001, {hms_string(epoch_elapsed)}\n",
            "Epoch 20, gen loss=2.3175292015075684,disc loss=1.1229290962219238, {hms_string(epoch_elapsed)}\n",
            "Epoch 21, gen loss=2.2274296283721924,disc loss=1.1308640241622925, {hms_string(epoch_elapsed)}\n",
            "Epoch 22, gen loss=2.263061761856079,disc loss=1.1974338293075562, {hms_string(epoch_elapsed)}\n",
            "Epoch 23, gen loss=2.2285871505737305,disc loss=1.095668077468872, {hms_string(epoch_elapsed)}\n",
            "Epoch 24, gen loss=2.1774418354034424,disc loss=1.0961605310440063, {hms_string(epoch_elapsed)}\n",
            "Epoch 25, gen loss=2.2996432781219482,disc loss=1.1185240745544434, {hms_string(epoch_elapsed)}\n",
            "Epoch 26, gen loss=2.200314521789551,disc loss=1.1484278440475464, {hms_string(epoch_elapsed)}\n",
            "Epoch 27, gen loss=2.140676259994507,disc loss=1.152670979499817, {hms_string(epoch_elapsed)}\n",
            "Epoch 28, gen loss=2.1343483924865723,disc loss=1.1803728342056274, {hms_string(epoch_elapsed)}\n",
            "Epoch 29, gen loss=2.096707344055176,disc loss=1.1294530630111694, {hms_string(epoch_elapsed)}\n",
            "Epoch 30, gen loss=2.141031503677368,disc loss=1.1324636936187744, {hms_string(epoch_elapsed)}\n",
            "Epoch 31, gen loss=2.224961519241333,disc loss=1.0486606359481812, {hms_string(epoch_elapsed)}\n",
            "Epoch 32, gen loss=2.2689285278320312,disc loss=1.1145886182785034, {hms_string(epoch_elapsed)}\n",
            "Epoch 33, gen loss=2.1391186714172363,disc loss=1.1061360836029053, {hms_string(epoch_elapsed)}\n",
            "Epoch 34, gen loss=2.1510226726531982,disc loss=1.1110646724700928, {hms_string(epoch_elapsed)}\n",
            "Epoch 35, gen loss=2.1670098304748535,disc loss=1.1112473011016846, {hms_string(epoch_elapsed)}\n",
            "Epoch 36, gen loss=2.1795618534088135,disc loss=1.1344126462936401, {hms_string(epoch_elapsed)}\n",
            "Epoch 37, gen loss=2.2666232585906982,disc loss=1.0319559574127197, {hms_string(epoch_elapsed)}\n",
            "Epoch 38, gen loss=2.216384172439575,disc loss=1.0573604106903076, {hms_string(epoch_elapsed)}\n",
            "Epoch 39, gen loss=2.2726070880889893,disc loss=1.0236458778381348, {hms_string(epoch_elapsed)}\n",
            "Epoch 40, gen loss=2.245327949523926,disc loss=1.0796918869018555, {hms_string(epoch_elapsed)}\n",
            "Epoch 41, gen loss=2.2741544246673584,disc loss=1.0622011423110962, {hms_string(epoch_elapsed)}\n",
            "Epoch 42, gen loss=2.235008478164673,disc loss=1.0446420907974243, {hms_string(epoch_elapsed)}\n",
            "Epoch 43, gen loss=2.2311174869537354,disc loss=1.0989248752593994, {hms_string(epoch_elapsed)}\n",
            "Epoch 44, gen loss=2.2692854404449463,disc loss=1.0100178718566895, {hms_string(epoch_elapsed)}\n",
            "Epoch 45, gen loss=2.323998212814331,disc loss=0.9929903745651245, {hms_string(epoch_elapsed)}\n",
            "Epoch 46, gen loss=2.286802053451538,disc loss=1.0411666631698608, {hms_string(epoch_elapsed)}\n",
            "Epoch 47, gen loss=2.3452401161193848,disc loss=1.028029441833496, {hms_string(epoch_elapsed)}\n",
            "Epoch 48, gen loss=2.2961947917938232,disc loss=1.0458769798278809, {hms_string(epoch_elapsed)}\n",
            "Epoch 49, gen loss=2.2643744945526123,disc loss=1.0409560203552246, {hms_string(epoch_elapsed)}\n",
            "Epoch 50, gen loss=2.3201520442962646,disc loss=0.9664161205291748, {hms_string(epoch_elapsed)}\n",
            "Epoch 51, gen loss=2.355255126953125,disc loss=0.9907464385032654, {hms_string(epoch_elapsed)}\n",
            "Epoch 52, gen loss=2.4316353797912598,disc loss=0.9773646593093872, {hms_string(epoch_elapsed)}\n",
            "Epoch 53, gen loss=2.3909528255462646,disc loss=0.9955310225486755, {hms_string(epoch_elapsed)}\n",
            "Epoch 54, gen loss=2.363071918487549,disc loss=0.9482954144477844, {hms_string(epoch_elapsed)}\n",
            "Epoch 55, gen loss=2.3716230392456055,disc loss=1.0116913318634033, {hms_string(epoch_elapsed)}\n",
            "Epoch 56, gen loss=2.3715550899505615,disc loss=0.9594748020172119, {hms_string(epoch_elapsed)}\n",
            "Epoch 57, gen loss=2.3859732151031494,disc loss=0.95489501953125, {hms_string(epoch_elapsed)}\n",
            "Epoch 58, gen loss=2.458686590194702,disc loss=0.9256561994552612, {hms_string(epoch_elapsed)}\n",
            "Epoch 59, gen loss=2.5359914302825928,disc loss=0.951331377029419, {hms_string(epoch_elapsed)}\n",
            "Epoch 60, gen loss=2.4737966060638428,disc loss=0.9597756862640381, {hms_string(epoch_elapsed)}\n",
            "Epoch 61, gen loss=2.501455783843994,disc loss=0.9178869128227234, {hms_string(epoch_elapsed)}\n",
            "Epoch 62, gen loss=2.5388529300689697,disc loss=0.9204009771347046, {hms_string(epoch_elapsed)}\n",
            "Epoch 63, gen loss=2.5695648193359375,disc loss=0.9428693056106567, {hms_string(epoch_elapsed)}\n",
            "Epoch 64, gen loss=2.538482189178467,disc loss=0.942848801612854, {hms_string(epoch_elapsed)}\n",
            "Epoch 65, gen loss=2.5556180477142334,disc loss=0.8586748838424683, {hms_string(epoch_elapsed)}\n",
            "Epoch 66, gen loss=2.5964391231536865,disc loss=0.9069452881813049, {hms_string(epoch_elapsed)}\n",
            "Epoch 67, gen loss=2.569652795791626,disc loss=0.9385361075401306, {hms_string(epoch_elapsed)}\n",
            "Epoch 68, gen loss=2.5779006481170654,disc loss=0.9018827080726624, {hms_string(epoch_elapsed)}\n",
            "Epoch 69, gen loss=2.5876176357269287,disc loss=0.8754416704177856, {hms_string(epoch_elapsed)}\n",
            "Epoch 70, gen loss=2.6475424766540527,disc loss=0.872343897819519, {hms_string(epoch_elapsed)}\n",
            "Epoch 71, gen loss=2.649473190307617,disc loss=0.869297981262207, {hms_string(epoch_elapsed)}\n",
            "Epoch 72, gen loss=2.6629867553710938,disc loss=0.9046701192855835, {hms_string(epoch_elapsed)}\n",
            "Epoch 73, gen loss=2.696672201156616,disc loss=0.8817415237426758, {hms_string(epoch_elapsed)}\n",
            "Epoch 74, gen loss=2.6554181575775146,disc loss=0.8507014513015747, {hms_string(epoch_elapsed)}\n",
            "Epoch 75, gen loss=2.6971232891082764,disc loss=0.9038776159286499, {hms_string(epoch_elapsed)}\n",
            "Epoch 76, gen loss=2.720529794692993,disc loss=0.8892211318016052, {hms_string(epoch_elapsed)}\n",
            "Epoch 77, gen loss=2.6463775634765625,disc loss=0.9304453134536743, {hms_string(epoch_elapsed)}\n",
            "Epoch 78, gen loss=2.695695400238037,disc loss=0.8612327575683594, {hms_string(epoch_elapsed)}\n",
            "Epoch 79, gen loss=2.6757099628448486,disc loss=0.8773612976074219, {hms_string(epoch_elapsed)}\n",
            "Epoch 80, gen loss=2.7093899250030518,disc loss=0.8501290678977966, {hms_string(epoch_elapsed)}\n",
            "Epoch 81, gen loss=2.7438743114471436,disc loss=0.8600842952728271, {hms_string(epoch_elapsed)}\n",
            "Epoch 82, gen loss=2.7332730293273926,disc loss=0.8410291075706482, {hms_string(epoch_elapsed)}\n",
            "Epoch 83, gen loss=2.8084208965301514,disc loss=0.8678502440452576, {hms_string(epoch_elapsed)}\n",
            "Epoch 84, gen loss=2.7565181255340576,disc loss=0.8782131671905518, {hms_string(epoch_elapsed)}\n",
            "Epoch 85, gen loss=2.7588565349578857,disc loss=0.8981824517250061, {hms_string(epoch_elapsed)}\n",
            "Epoch 86, gen loss=2.761308431625366,disc loss=0.8469361662864685, {hms_string(epoch_elapsed)}\n",
            "Epoch 87, gen loss=2.8239920139312744,disc loss=0.8535047173500061, {hms_string(epoch_elapsed)}\n",
            "Epoch 88, gen loss=2.833070993423462,disc loss=0.811259925365448, {hms_string(epoch_elapsed)}\n",
            "Epoch 89, gen loss=2.8174309730529785,disc loss=0.8380922079086304, {hms_string(epoch_elapsed)}\n",
            "Epoch 90, gen loss=2.800846576690674,disc loss=0.8128763437271118, {hms_string(epoch_elapsed)}\n",
            "Epoch 91, gen loss=2.9491477012634277,disc loss=0.7823235392570496, {hms_string(epoch_elapsed)}\n",
            "Epoch 92, gen loss=2.860828161239624,disc loss=0.8644296526908875, {hms_string(epoch_elapsed)}\n",
            "Epoch 93, gen loss=2.883774757385254,disc loss=0.8122259378433228, {hms_string(epoch_elapsed)}\n",
            "Epoch 94, gen loss=2.850904703140259,disc loss=0.7823987007141113, {hms_string(epoch_elapsed)}\n",
            "Epoch 95, gen loss=2.882539749145508,disc loss=0.8254892826080322, {hms_string(epoch_elapsed)}\n",
            "Epoch 96, gen loss=2.9379146099090576,disc loss=0.7967208623886108, {hms_string(epoch_elapsed)}\n",
            "Epoch 97, gen loss=2.9764180183410645,disc loss=0.754836916923523, {hms_string(epoch_elapsed)}\n",
            "Epoch 98, gen loss=2.999218702316284,disc loss=0.7857290506362915, {hms_string(epoch_elapsed)}\n",
            "Epoch 99, gen loss=3.0756869316101074,disc loss=0.753548264503479, {hms_string(epoch_elapsed)}\n",
            "Epoch 100, gen loss=3.009526252746582,disc loss=0.7791264653205872, {hms_string(epoch_elapsed)}\n",
            "Epoch 101, gen loss=2.9872686862945557,disc loss=0.8184868097305298, {hms_string(epoch_elapsed)}\n",
            "Epoch 102, gen loss=3.006640672683716,disc loss=0.7642129063606262, {hms_string(epoch_elapsed)}\n",
            "Epoch 103, gen loss=3.0671634674072266,disc loss=0.7560489773750305, {hms_string(epoch_elapsed)}\n",
            "Epoch 104, gen loss=3.053663969039917,disc loss=0.773444414138794, {hms_string(epoch_elapsed)}\n",
            "Epoch 105, gen loss=3.063093662261963,disc loss=0.7705745697021484, {hms_string(epoch_elapsed)}\n",
            "Epoch 106, gen loss=3.0877010822296143,disc loss=0.7568562030792236, {hms_string(epoch_elapsed)}\n",
            "Epoch 107, gen loss=3.1145577430725098,disc loss=0.7547726631164551, {hms_string(epoch_elapsed)}\n",
            "Epoch 108, gen loss=3.157111644744873,disc loss=0.7383382320404053, {hms_string(epoch_elapsed)}\n",
            "Epoch 109, gen loss=3.151458740234375,disc loss=0.7353408932685852, {hms_string(epoch_elapsed)}\n",
            "Epoch 110, gen loss=3.1335761547088623,disc loss=0.7437296509742737, {hms_string(epoch_elapsed)}\n",
            "Epoch 111, gen loss=3.2461066246032715,disc loss=0.7451202273368835, {hms_string(epoch_elapsed)}\n",
            "Epoch 112, gen loss=3.2378687858581543,disc loss=0.7303546071052551, {hms_string(epoch_elapsed)}\n",
            "Epoch 113, gen loss=3.2442612648010254,disc loss=0.7494816780090332, {hms_string(epoch_elapsed)}\n",
            "Epoch 114, gen loss=3.2030491828918457,disc loss=0.7400773763656616, {hms_string(epoch_elapsed)}\n",
            "Epoch 115, gen loss=3.184084415435791,disc loss=0.7592988610267639, {hms_string(epoch_elapsed)}\n",
            "Epoch 116, gen loss=3.1998753547668457,disc loss=0.7520158886909485, {hms_string(epoch_elapsed)}\n",
            "Epoch 117, gen loss=3.1889004707336426,disc loss=0.756227970123291, {hms_string(epoch_elapsed)}\n",
            "Epoch 118, gen loss=3.232383966445923,disc loss=0.7298652529716492, {hms_string(epoch_elapsed)}\n",
            "Epoch 119, gen loss=3.264186143875122,disc loss=0.7034290432929993, {hms_string(epoch_elapsed)}\n",
            "Epoch 120, gen loss=3.3704888820648193,disc loss=0.6940195560455322, {hms_string(epoch_elapsed)}\n",
            "Epoch 121, gen loss=3.2979347705841064,disc loss=0.7163850665092468, {hms_string(epoch_elapsed)}\n",
            "Epoch 122, gen loss=3.253143787384033,disc loss=0.7500082850456238, {hms_string(epoch_elapsed)}\n",
            "Epoch 123, gen loss=3.3151421546936035,disc loss=0.7247166633605957, {hms_string(epoch_elapsed)}\n",
            "Epoch 124, gen loss=3.2619333267211914,disc loss=0.7235217094421387, {hms_string(epoch_elapsed)}\n",
            "Epoch 125, gen loss=3.349055528640747,disc loss=0.6797422170639038, {hms_string(epoch_elapsed)}\n",
            "Epoch 126, gen loss=3.3348848819732666,disc loss=0.7212950587272644, {hms_string(epoch_elapsed)}\n",
            "Epoch 127, gen loss=3.399120569229126,disc loss=0.6900311708450317, {hms_string(epoch_elapsed)}\n",
            "Epoch 128, gen loss=3.363119125366211,disc loss=0.7103612422943115, {hms_string(epoch_elapsed)}\n",
            "Epoch 129, gen loss=3.3635475635528564,disc loss=0.707439124584198, {hms_string(epoch_elapsed)}\n",
            "Epoch 130, gen loss=3.353389024734497,disc loss=0.7355677485466003, {hms_string(epoch_elapsed)}\n",
            "Epoch 131, gen loss=3.3355085849761963,disc loss=0.7189521789550781, {hms_string(epoch_elapsed)}\n",
            "Epoch 132, gen loss=3.4433412551879883,disc loss=0.6532014608383179, {hms_string(epoch_elapsed)}\n",
            "Epoch 133, gen loss=3.410475492477417,disc loss=0.6806918382644653, {hms_string(epoch_elapsed)}\n",
            "Epoch 134, gen loss=3.4421331882476807,disc loss=0.6679040789604187, {hms_string(epoch_elapsed)}\n",
            "Epoch 135, gen loss=3.5137076377868652,disc loss=0.6734297275543213, {hms_string(epoch_elapsed)}\n",
            "Epoch 136, gen loss=3.54018235206604,disc loss=0.6560183763504028, {hms_string(epoch_elapsed)}\n",
            "Epoch 137, gen loss=3.538222312927246,disc loss=0.68186354637146, {hms_string(epoch_elapsed)}\n",
            "Epoch 138, gen loss=3.507580518722534,disc loss=0.7052509784698486, {hms_string(epoch_elapsed)}\n",
            "Epoch 139, gen loss=3.5567641258239746,disc loss=0.6531386375427246, {hms_string(epoch_elapsed)}\n",
            "Epoch 140, gen loss=3.5662198066711426,disc loss=0.657134473323822, {hms_string(epoch_elapsed)}\n",
            "Epoch 141, gen loss=3.551889657974243,disc loss=0.6557970643043518, {hms_string(epoch_elapsed)}\n",
            "Epoch 142, gen loss=3.5132832527160645,disc loss=0.6778386235237122, {hms_string(epoch_elapsed)}\n",
            "Epoch 143, gen loss=3.5900509357452393,disc loss=0.6705232858657837, {hms_string(epoch_elapsed)}\n",
            "Epoch 144, gen loss=3.609686851501465,disc loss=0.6504530906677246, {hms_string(epoch_elapsed)}\n",
            "Epoch 145, gen loss=3.569661855697632,disc loss=0.6458162069320679, {hms_string(epoch_elapsed)}\n",
            "Epoch 146, gen loss=3.6553804874420166,disc loss=0.6268901228904724, {hms_string(epoch_elapsed)}\n",
            "Epoch 147, gen loss=3.6457183361053467,disc loss=0.64274001121521, {hms_string(epoch_elapsed)}\n",
            "Epoch 148, gen loss=3.681270122528076,disc loss=0.6976549625396729, {hms_string(epoch_elapsed)}\n",
            "Epoch 149, gen loss=3.6432905197143555,disc loss=0.6607894897460938, {hms_string(epoch_elapsed)}\n",
            "Epoch 150, gen loss=3.5918209552764893,disc loss=0.6623648405075073, {hms_string(epoch_elapsed)}\n",
            "Epoch 151, gen loss=3.6937477588653564,disc loss=0.6868411302566528, {hms_string(epoch_elapsed)}\n",
            "Epoch 152, gen loss=3.640202760696411,disc loss=0.6104751825332642, {hms_string(epoch_elapsed)}\n",
            "Epoch 153, gen loss=3.637868642807007,disc loss=0.6372023224830627, {hms_string(epoch_elapsed)}\n",
            "Epoch 154, gen loss=3.672487258911133,disc loss=0.6447474360466003, {hms_string(epoch_elapsed)}\n",
            "Epoch 155, gen loss=3.6796345710754395,disc loss=0.6549198627471924, {hms_string(epoch_elapsed)}\n",
            "Epoch 156, gen loss=3.6993908882141113,disc loss=0.6235653162002563, {hms_string(epoch_elapsed)}\n",
            "Epoch 157, gen loss=3.7047605514526367,disc loss=0.6212196946144104, {hms_string(epoch_elapsed)}\n",
            "Epoch 158, gen loss=3.6901473999023438,disc loss=0.6515246033668518, {hms_string(epoch_elapsed)}\n",
            "Epoch 159, gen loss=3.754755973815918,disc loss=0.6793577671051025, {hms_string(epoch_elapsed)}\n",
            "Epoch 160, gen loss=3.7145209312438965,disc loss=0.6543537378311157, {hms_string(epoch_elapsed)}\n",
            "Epoch 161, gen loss=3.6909313201904297,disc loss=0.6876784563064575, {hms_string(epoch_elapsed)}\n",
            "Epoch 162, gen loss=3.657156229019165,disc loss=0.7020667195320129, {hms_string(epoch_elapsed)}\n",
            "Epoch 163, gen loss=3.712657928466797,disc loss=0.6238334774971008, {hms_string(epoch_elapsed)}\n"
          ],
          "name": "stdout"
        }
      ]
    }
  ]
}